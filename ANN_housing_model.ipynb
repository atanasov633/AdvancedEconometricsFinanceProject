{
  "cells": [
    {
      "cell_type": "markdown",
      "metadata": {
        "id": "view-in-github",
        "colab_type": "text"
      },
      "source": [
        "<a href=\"https://colab.research.google.com/github/atanasov633/AdvancedEconometricsFinanceProject/blob/master/ANN_housing_model.ipynb\" target=\"_parent\"><img src=\"https://colab.research.google.com/assets/colab-badge.svg\" alt=\"Open In Colab\"/></a>"
      ]
    },
    {
      "cell_type": "code",
      "execution_count": 2,
      "id": "490de887",
      "metadata": {
        "id": "490de887",
        "colab": {
          "base_uri": "https://localhost:8080/",
          "height": 374
        },
        "outputId": "61dd1bdc-ceb0-4b56-be51-81dfc2be00a8"
      },
      "outputs": [
        {
          "output_type": "error",
          "ename": "ModuleNotFoundError",
          "evalue": "ignored",
          "traceback": [
            "\u001b[0;31m---------------------------------------------------------------------------\u001b[0m",
            "\u001b[0;31mModuleNotFoundError\u001b[0m                       Traceback (most recent call last)",
            "\u001b[0;32m<ipython-input-2-de343b646ee0>\u001b[0m in \u001b[0;36m<module>\u001b[0;34m\u001b[0m\n\u001b[1;32m      3\u001b[0m \u001b[0;32mimport\u001b[0m \u001b[0mmatplotlib\u001b[0m\u001b[0;34m.\u001b[0m\u001b[0mpyplot\u001b[0m \u001b[0;32mas\u001b[0m \u001b[0mplt\u001b[0m\u001b[0;34m\u001b[0m\u001b[0;34m\u001b[0m\u001b[0m\n\u001b[1;32m      4\u001b[0m \u001b[0;32mimport\u001b[0m \u001b[0mseaborn\u001b[0m \u001b[0;32mas\u001b[0m \u001b[0msns\u001b[0m\u001b[0;34m\u001b[0m\u001b[0;34m\u001b[0m\u001b[0m\n\u001b[0;32m----> 5\u001b[0;31m \u001b[0;32mimport\u001b[0m \u001b[0mhvplot\u001b[0m\u001b[0;34m.\u001b[0m\u001b[0mpandas\u001b[0m\u001b[0;34m\u001b[0m\u001b[0;34m\u001b[0m\u001b[0m\n\u001b[0m\u001b[1;32m      6\u001b[0m \u001b[0mget_ipython\u001b[0m\u001b[0;34m(\u001b[0m\u001b[0;34m)\u001b[0m\u001b[0;34m.\u001b[0m\u001b[0mrun_line_magic\u001b[0m\u001b[0;34m(\u001b[0m\u001b[0;34m'matplotlib'\u001b[0m\u001b[0;34m,\u001b[0m \u001b[0;34m'inline'\u001b[0m\u001b[0;34m)\u001b[0m\u001b[0;34m\u001b[0m\u001b[0;34m\u001b[0m\u001b[0m\n\u001b[1;32m      7\u001b[0m \u001b[0;32mimport\u001b[0m \u001b[0mre\u001b[0m\u001b[0;34m\u001b[0m\u001b[0;34m\u001b[0m\u001b[0m\n",
            "\u001b[0;31mModuleNotFoundError\u001b[0m: No module named 'hvplot'",
            "",
            "\u001b[0;31m---------------------------------------------------------------------------\u001b[0;32m\nNOTE: If your import is failing due to a missing package, you can\nmanually install dependencies using either !pip or !apt.\n\nTo view examples of installing some common dependencies, click the\n\"Open Examples\" button below.\n\u001b[0;31m---------------------------------------------------------------------------\u001b[0m\n"
          ],
          "errorDetails": {
            "actions": [
              {
                "action": "open_url",
                "actionText": "Open Examples",
                "url": "/notebooks/snippets/importing_libraries.ipynb"
              }
            ]
          }
        }
      ],
      "source": [
        "import pandas as pd\n",
        "import numpy as np\n",
        "import matplotlib.pyplot as plt\n",
        "import seaborn as sns\n",
        "import hvplot.pandas\n",
        "%matplotlib inline\n",
        "import re"
      ]
    },
    {
      "cell_type": "markdown",
      "id": "63a2a7ce",
      "metadata": {
        "id": "63a2a7ce"
      },
      "source": [
        "## DATA - summary"
      ]
    },
    {
      "cell_type": "markdown",
      "id": "4d1f1fad",
      "metadata": {
        "id": "4d1f1fad"
      },
      "source": [
        "### Import Housing Dataset "
      ]
    },
    {
      "cell_type": "code",
      "execution_count": null,
      "id": "aec6741f",
      "metadata": {
        "id": "aec6741f"
      },
      "outputs": [],
      "source": [
        "path = \"\""
      ]
    },
    {
      "cell_type": "code",
      "execution_count": null,
      "id": "ead28d86",
      "metadata": {
        "scrolled": true,
        "id": "ead28d86"
      },
      "outputs": [],
      "source": [
        "df_housing = pd.read_csv(path)"
      ]
    },
    {
      "cell_type": "code",
      "execution_count": null,
      "id": "957e80af",
      "metadata": {
        "id": "957e80af",
        "outputId": "bf39c56c-4751-4aee-b9db-3706703efad0"
      },
      "outputs": [
        {
          "data": {
            "text/html": [
              "<div>\n",
              "<style scoped>\n",
              "    .dataframe tbody tr th:only-of-type {\n",
              "        vertical-align: middle;\n",
              "    }\n",
              "\n",
              "    .dataframe tbody tr th {\n",
              "        vertical-align: top;\n",
              "    }\n",
              "\n",
              "    .dataframe thead th {\n",
              "        text-align: right;\n",
              "    }\n",
              "</style>\n",
              "<table border=\"1\" class=\"dataframe\">\n",
              "  <thead>\n",
              "    <tr style=\"text-align: right;\">\n",
              "      <th></th>\n",
              "      <th>Avg. Area Income</th>\n",
              "      <th>Avg. Area House Age</th>\n",
              "      <th>Avg. Area Number of Rooms</th>\n",
              "      <th>Avg. Area Number of Bedrooms</th>\n",
              "      <th>Area Population</th>\n",
              "      <th>Price</th>\n",
              "      <th>Address</th>\n",
              "    </tr>\n",
              "  </thead>\n",
              "  <tbody>\n",
              "    <tr>\n",
              "      <th>0</th>\n",
              "      <td>79545.458574</td>\n",
              "      <td>5.682861</td>\n",
              "      <td>7.009188</td>\n",
              "      <td>4.09</td>\n",
              "      <td>23086.800503</td>\n",
              "      <td>1.059034e+06</td>\n",
              "      <td>208 Michael Ferry Apt. 674\\nLaurabury, NE 3701...</td>\n",
              "    </tr>\n",
              "    <tr>\n",
              "      <th>1</th>\n",
              "      <td>79248.642455</td>\n",
              "      <td>6.002900</td>\n",
              "      <td>6.730821</td>\n",
              "      <td>3.09</td>\n",
              "      <td>40173.072174</td>\n",
              "      <td>1.505891e+06</td>\n",
              "      <td>188 Johnson Views Suite 079\\nLake Kathleen, CA...</td>\n",
              "    </tr>\n",
              "    <tr>\n",
              "      <th>2</th>\n",
              "      <td>61287.067179</td>\n",
              "      <td>5.865890</td>\n",
              "      <td>8.512727</td>\n",
              "      <td>5.13</td>\n",
              "      <td>36882.159400</td>\n",
              "      <td>1.058988e+06</td>\n",
              "      <td>9127 Elizabeth Stravenue\\nDanieltown, WI 06482...</td>\n",
              "    </tr>\n",
              "    <tr>\n",
              "      <th>3</th>\n",
              "      <td>63345.240046</td>\n",
              "      <td>7.188236</td>\n",
              "      <td>5.586729</td>\n",
              "      <td>3.26</td>\n",
              "      <td>34310.242831</td>\n",
              "      <td>1.260617e+06</td>\n",
              "      <td>USS Barnett\\nFPO AP 44820</td>\n",
              "    </tr>\n",
              "    <tr>\n",
              "      <th>4</th>\n",
              "      <td>59982.197226</td>\n",
              "      <td>5.040555</td>\n",
              "      <td>7.839388</td>\n",
              "      <td>4.23</td>\n",
              "      <td>26354.109472</td>\n",
              "      <td>6.309435e+05</td>\n",
              "      <td>USNS Raymond\\nFPO AE 09386</td>\n",
              "    </tr>\n",
              "  </tbody>\n",
              "</table>\n",
              "</div>"
            ],
            "text/plain": [
              "   Avg. Area Income  Avg. Area House Age  Avg. Area Number of Rooms  \\\n",
              "0      79545.458574             5.682861                   7.009188   \n",
              "1      79248.642455             6.002900                   6.730821   \n",
              "2      61287.067179             5.865890                   8.512727   \n",
              "3      63345.240046             7.188236                   5.586729   \n",
              "4      59982.197226             5.040555                   7.839388   \n",
              "\n",
              "   Avg. Area Number of Bedrooms  Area Population         Price  \\\n",
              "0                          4.09     23086.800503  1.059034e+06   \n",
              "1                          3.09     40173.072174  1.505891e+06   \n",
              "2                          5.13     36882.159400  1.058988e+06   \n",
              "3                          3.26     34310.242831  1.260617e+06   \n",
              "4                          4.23     26354.109472  6.309435e+05   \n",
              "\n",
              "                                             Address  \n",
              "0  208 Michael Ferry Apt. 674\\nLaurabury, NE 3701...  \n",
              "1  188 Johnson Views Suite 079\\nLake Kathleen, CA...  \n",
              "2  9127 Elizabeth Stravenue\\nDanieltown, WI 06482...  \n",
              "3                          USS Barnett\\nFPO AP 44820  \n",
              "4                         USNS Raymond\\nFPO AE 09386  "
            ]
          },
          "execution_count": 4,
          "metadata": {},
          "output_type": "execute_result"
        }
      ],
      "source": [
        "df_housing.head()"
      ]
    },
    {
      "cell_type": "markdown",
      "id": "4c42d2c4",
      "metadata": {
        "id": "4c42d2c4"
      },
      "source": [
        "#### Get overall statistics for the data"
      ]
    },
    {
      "cell_type": "code",
      "execution_count": null,
      "id": "5c8a35b9",
      "metadata": {
        "id": "5c8a35b9",
        "outputId": "2d67021e-a145-4553-9c4c-e28811df5d64"
      },
      "outputs": [
        {
          "data": {
            "text/html": [
              "<div>\n",
              "<style scoped>\n",
              "    .dataframe tbody tr th:only-of-type {\n",
              "        vertical-align: middle;\n",
              "    }\n",
              "\n",
              "    .dataframe tbody tr th {\n",
              "        vertical-align: top;\n",
              "    }\n",
              "\n",
              "    .dataframe thead th {\n",
              "        text-align: right;\n",
              "    }\n",
              "</style>\n",
              "<table border=\"1\" class=\"dataframe\">\n",
              "  <thead>\n",
              "    <tr style=\"text-align: right;\">\n",
              "      <th></th>\n",
              "      <th>Avg. Area Income</th>\n",
              "      <th>Avg. Area House Age</th>\n",
              "      <th>Avg. Area Number of Rooms</th>\n",
              "      <th>Avg. Area Number of Bedrooms</th>\n",
              "      <th>Area Population</th>\n",
              "      <th>Price</th>\n",
              "    </tr>\n",
              "  </thead>\n",
              "  <tbody>\n",
              "    <tr>\n",
              "      <th>count</th>\n",
              "      <td>5000.000000</td>\n",
              "      <td>5000.000000</td>\n",
              "      <td>5000.000000</td>\n",
              "      <td>5000.000000</td>\n",
              "      <td>5000.000000</td>\n",
              "      <td>5.000000e+03</td>\n",
              "    </tr>\n",
              "    <tr>\n",
              "      <th>mean</th>\n",
              "      <td>68583.108984</td>\n",
              "      <td>5.977222</td>\n",
              "      <td>6.987792</td>\n",
              "      <td>3.981330</td>\n",
              "      <td>36163.516039</td>\n",
              "      <td>1.232073e+06</td>\n",
              "    </tr>\n",
              "    <tr>\n",
              "      <th>std</th>\n",
              "      <td>10657.991214</td>\n",
              "      <td>0.991456</td>\n",
              "      <td>1.005833</td>\n",
              "      <td>1.234137</td>\n",
              "      <td>9925.650114</td>\n",
              "      <td>3.531176e+05</td>\n",
              "    </tr>\n",
              "    <tr>\n",
              "      <th>min</th>\n",
              "      <td>17796.631190</td>\n",
              "      <td>2.644304</td>\n",
              "      <td>3.236194</td>\n",
              "      <td>2.000000</td>\n",
              "      <td>172.610686</td>\n",
              "      <td>1.593866e+04</td>\n",
              "    </tr>\n",
              "    <tr>\n",
              "      <th>25%</th>\n",
              "      <td>61480.562388</td>\n",
              "      <td>5.322283</td>\n",
              "      <td>6.299250</td>\n",
              "      <td>3.140000</td>\n",
              "      <td>29403.928702</td>\n",
              "      <td>9.975771e+05</td>\n",
              "    </tr>\n",
              "    <tr>\n",
              "      <th>50%</th>\n",
              "      <td>68804.286404</td>\n",
              "      <td>5.970429</td>\n",
              "      <td>7.002902</td>\n",
              "      <td>4.050000</td>\n",
              "      <td>36199.406689</td>\n",
              "      <td>1.232669e+06</td>\n",
              "    </tr>\n",
              "    <tr>\n",
              "      <th>75%</th>\n",
              "      <td>75783.338666</td>\n",
              "      <td>6.650808</td>\n",
              "      <td>7.665871</td>\n",
              "      <td>4.490000</td>\n",
              "      <td>42861.290769</td>\n",
              "      <td>1.471210e+06</td>\n",
              "    </tr>\n",
              "    <tr>\n",
              "      <th>max</th>\n",
              "      <td>107701.748378</td>\n",
              "      <td>9.519088</td>\n",
              "      <td>10.759588</td>\n",
              "      <td>6.500000</td>\n",
              "      <td>69621.713378</td>\n",
              "      <td>2.469066e+06</td>\n",
              "    </tr>\n",
              "  </tbody>\n",
              "</table>\n",
              "</div>"
            ],
            "text/plain": [
              "       Avg. Area Income  Avg. Area House Age  Avg. Area Number of Rooms  \\\n",
              "count       5000.000000          5000.000000                5000.000000   \n",
              "mean       68583.108984             5.977222                   6.987792   \n",
              "std        10657.991214             0.991456                   1.005833   \n",
              "min        17796.631190             2.644304                   3.236194   \n",
              "25%        61480.562388             5.322283                   6.299250   \n",
              "50%        68804.286404             5.970429                   7.002902   \n",
              "75%        75783.338666             6.650808                   7.665871   \n",
              "max       107701.748378             9.519088                  10.759588   \n",
              "\n",
              "       Avg. Area Number of Bedrooms  Area Population         Price  \n",
              "count                   5000.000000      5000.000000  5.000000e+03  \n",
              "mean                       3.981330     36163.516039  1.232073e+06  \n",
              "std                        1.234137      9925.650114  3.531176e+05  \n",
              "min                        2.000000       172.610686  1.593866e+04  \n",
              "25%                        3.140000     29403.928702  9.975771e+05  \n",
              "50%                        4.050000     36199.406689  1.232669e+06  \n",
              "75%                        4.490000     42861.290769  1.471210e+06  \n",
              "max                        6.500000     69621.713378  2.469066e+06  "
            ]
          },
          "execution_count": 64,
          "metadata": {},
          "output_type": "execute_result"
        }
      ],
      "source": [
        "df_housing.describe()"
      ]
    },
    {
      "cell_type": "markdown",
      "id": "fe3ef669",
      "metadata": {
        "id": "fe3ef669"
      },
      "source": [
        "#### Check for missing data"
      ]
    },
    {
      "cell_type": "code",
      "execution_count": null,
      "id": "c0fb9e5d",
      "metadata": {
        "id": "c0fb9e5d",
        "outputId": "231b328b-fd17-4f5d-ba69-e38ce344771c"
      },
      "outputs": [
        {
          "data": {
            "text/plain": [
              "Avg. Area Income                0\n",
              "Avg. Area House Age             0\n",
              "Avg. Area Number of Rooms       0\n",
              "Avg. Area Number of Bedrooms    0\n",
              "Area Population                 0\n",
              "Price                           0\n",
              "Address                         0\n",
              "dtype: int64"
            ]
          },
          "execution_count": 6,
          "metadata": {},
          "output_type": "execute_result"
        }
      ],
      "source": [
        "df_housing.isna().sum()"
      ]
    },
    {
      "cell_type": "code",
      "execution_count": null,
      "id": "ddb7ffe9",
      "metadata": {
        "id": "ddb7ffe9"
      },
      "outputs": [],
      "source": [
        "# no missing data found"
      ]
    },
    {
      "cell_type": "markdown",
      "id": "747121bb",
      "metadata": {
        "id": "747121bb"
      },
      "source": [
        "#### To be able to explore how the whole data affects the price, we need to hot encode the address and make it a numerical variable"
      ]
    },
    {
      "cell_type": "code",
      "execution_count": null,
      "id": "6939256b",
      "metadata": {
        "id": "6939256b",
        "outputId": "246d50e4-d962-4da2-a22d-4bfd55e7c8a2"
      },
      "outputs": [
        {
          "data": {
            "text/plain": [
              "5000"
            ]
          },
          "execution_count": 65,
          "metadata": {},
          "output_type": "execute_result"
        }
      ],
      "source": [
        "len(df_housing['Address'].unique())\n",
        "### all addresses are different"
      ]
    },
    {
      "cell_type": "markdown",
      "id": "90583dd9",
      "metadata": {
        "id": "90583dd9"
      },
      "source": [
        "###### Pattern in Address could be different. We will take the state."
      ]
    },
    {
      "cell_type": "code",
      "execution_count": null,
      "id": "de4eeb90",
      "metadata": {
        "id": "de4eeb90"
      },
      "outputs": [],
      "source": [
        "# a = re.findall(r'\\b[a-z]{2}\\b', df_housing['Address'][5], re.I)\n",
        "# a[0]"
      ]
    },
    {
      "cell_type": "code",
      "execution_count": null,
      "id": "f2d7a5f1",
      "metadata": {
        "id": "f2d7a5f1",
        "outputId": "14c608a6-fa05-43e1-c694-8527ba3bf03d"
      },
      "outputs": [
        {
          "name": "stderr",
          "output_type": "stream",
          "text": [
            "<ipython-input-18-f17555c90d0d>:3: SettingWithCopyWarning: \n",
            "A value is trying to be set on a copy of a slice from a DataFrame\n",
            "\n",
            "See the caveats in the documentation: https://pandas.pydata.org/pandas-docs/stable/user_guide/indexing.html#returning-a-view-versus-a-copy\n",
            "  df_housing['Address'][x] = state[0]\n"
          ]
        }
      ],
      "source": [
        "for x in range(len(df_housing)):\n",
        "    state = re.findall(r'\\b[a-z]{2}\\b', df_housing['Address'][x], re.I)\n",
        "    df_housing['Address'][x] = state[0]"
      ]
    },
    {
      "cell_type": "code",
      "execution_count": null,
      "id": "a311e6ba",
      "metadata": {
        "id": "a311e6ba",
        "outputId": "d098b1fa-238b-4e75-c5e9-95e4b2fe70ee"
      },
      "outputs": [
        {
          "data": {
            "text/plain": [
              "array(['NE', 'CA', 'WI', 'AP', 'AE', 'KS', 'CO', 'TN', 'AA', 'NM', 'PW',\n",
              "       'AR', 'HI', 'ME', 'IN', 'MI', 'DE', 'AZ', 'MA', 'MN', 'AL', 'NY',\n",
              "       'NV', 'VA', 'ID', 'OK', 'NH', 'MO', 'WV', 'WY', 'MH', 'UT', 'SD',\n",
              "       'CT', 'AK', 'WA', 'RI', 'NJ', 'KY', 'NC', 'IA', 'VT', 'FM', 'ND',\n",
              "       'LA', 'MP', 'OR', 'TX', 'DC', 'PR', 'MT', 'AS', 'OH', 'MS', 'IL',\n",
              "       'VI', 'GA', 'PA', 'MD', 'SC', 'GU', 'FL', 'Wu', 'Jo', 'Le'],\n",
              "      dtype=object)"
            ]
          },
          "execution_count": 19,
          "metadata": {},
          "output_type": "execute_result"
        }
      ],
      "source": [
        "df_housing['Address'].unique()"
      ]
    },
    {
      "cell_type": "code",
      "execution_count": null,
      "id": "44459e9c",
      "metadata": {
        "id": "44459e9c",
        "outputId": "14955510-9c3a-4815-ae48-ce7343858989"
      },
      "outputs": [
        {
          "data": {
            "text/html": [
              "<div>\n",
              "<style scoped>\n",
              "    .dataframe tbody tr th:only-of-type {\n",
              "        vertical-align: middle;\n",
              "    }\n",
              "\n",
              "    .dataframe tbody tr th {\n",
              "        vertical-align: top;\n",
              "    }\n",
              "\n",
              "    .dataframe thead th {\n",
              "        text-align: right;\n",
              "    }\n",
              "</style>\n",
              "<table border=\"1\" class=\"dataframe\">\n",
              "  <thead>\n",
              "    <tr style=\"text-align: right;\">\n",
              "      <th></th>\n",
              "      <th>Avg. Area Income</th>\n",
              "      <th>Avg. Area House Age</th>\n",
              "      <th>Avg. Area Number of Rooms</th>\n",
              "      <th>Avg. Area Number of Bedrooms</th>\n",
              "      <th>Area Population</th>\n",
              "      <th>Price</th>\n",
              "      <th>Address</th>\n",
              "    </tr>\n",
              "  </thead>\n",
              "  <tbody>\n",
              "    <tr>\n",
              "      <th>0</th>\n",
              "      <td>79545.458574</td>\n",
              "      <td>5.682861</td>\n",
              "      <td>7.009188</td>\n",
              "      <td>4.09</td>\n",
              "      <td>23086.800503</td>\n",
              "      <td>1.059034e+06</td>\n",
              "      <td>NE</td>\n",
              "    </tr>\n",
              "    <tr>\n",
              "      <th>1</th>\n",
              "      <td>79248.642455</td>\n",
              "      <td>6.002900</td>\n",
              "      <td>6.730821</td>\n",
              "      <td>3.09</td>\n",
              "      <td>40173.072174</td>\n",
              "      <td>1.505891e+06</td>\n",
              "      <td>CA</td>\n",
              "    </tr>\n",
              "    <tr>\n",
              "      <th>2</th>\n",
              "      <td>61287.067179</td>\n",
              "      <td>5.865890</td>\n",
              "      <td>8.512727</td>\n",
              "      <td>5.13</td>\n",
              "      <td>36882.159400</td>\n",
              "      <td>1.058988e+06</td>\n",
              "      <td>WI</td>\n",
              "    </tr>\n",
              "    <tr>\n",
              "      <th>3</th>\n",
              "      <td>63345.240046</td>\n",
              "      <td>7.188236</td>\n",
              "      <td>5.586729</td>\n",
              "      <td>3.26</td>\n",
              "      <td>34310.242831</td>\n",
              "      <td>1.260617e+06</td>\n",
              "      <td>AP</td>\n",
              "    </tr>\n",
              "    <tr>\n",
              "      <th>4</th>\n",
              "      <td>59982.197226</td>\n",
              "      <td>5.040555</td>\n",
              "      <td>7.839388</td>\n",
              "      <td>4.23</td>\n",
              "      <td>26354.109472</td>\n",
              "      <td>6.309435e+05</td>\n",
              "      <td>AE</td>\n",
              "    </tr>\n",
              "  </tbody>\n",
              "</table>\n",
              "</div>"
            ],
            "text/plain": [
              "   Avg. Area Income  Avg. Area House Age  Avg. Area Number of Rooms  \\\n",
              "0      79545.458574             5.682861                   7.009188   \n",
              "1      79248.642455             6.002900                   6.730821   \n",
              "2      61287.067179             5.865890                   8.512727   \n",
              "3      63345.240046             7.188236                   5.586729   \n",
              "4      59982.197226             5.040555                   7.839388   \n",
              "\n",
              "   Avg. Area Number of Bedrooms  Area Population         Price Address  \n",
              "0                          4.09     23086.800503  1.059034e+06      NE  \n",
              "1                          3.09     40173.072174  1.505891e+06      CA  \n",
              "2                          5.13     36882.159400  1.058988e+06      WI  \n",
              "3                          3.26     34310.242831  1.260617e+06      AP  \n",
              "4                          4.23     26354.109472  6.309435e+05      AE  "
            ]
          },
          "execution_count": 20,
          "metadata": {},
          "output_type": "execute_result"
        }
      ],
      "source": [
        "df_housing.head()"
      ]
    },
    {
      "cell_type": "code",
      "execution_count": null,
      "id": "b0625431",
      "metadata": {
        "id": "b0625431"
      },
      "outputs": [],
      "source": []
    },
    {
      "cell_type": "markdown",
      "id": "07cd0922",
      "metadata": {
        "id": "07cd0922"
      },
      "source": [
        "### Basic Visualizations of the Dataset "
      ]
    },
    {
      "cell_type": "code",
      "execution_count": null,
      "id": "21c84800",
      "metadata": {
        "id": "21c84800"
      },
      "outputs": [],
      "source": [
        "# Correlation Map"
      ]
    },
    {
      "cell_type": "code",
      "execution_count": null,
      "id": "561440cb",
      "metadata": {
        "id": "561440cb",
        "outputId": "b3bfa67a-e6ec-4f99-f763-d7fbe9ca4869"
      },
      "outputs": [
        {
          "data": {
            "text/plain": [
              "<AxesSubplot:>"
            ]
          },
          "execution_count": 21,
          "metadata": {},
          "output_type": "execute_result"
        },
        {
          "data": {
            "image/png": "[encoded data removed]",
            "text/plain": [
              "<Figure size 640x480 with 2 Axes>"
            ]
          },
          "metadata": {},
          "output_type": "display_data"
        }
      ],
      "source": [
        "sns.heatmap(df_housing.corr(), annot=True)"
      ]
    },
    {
      "cell_type": "code",
      "execution_count": null,
      "id": "310d3a25",
      "metadata": {
        "id": "310d3a25"
      },
      "outputs": [],
      "source": [
        "df_housing.hvplot.scatter(x='Avg. Area Income', y='Price')"
      ]
    },
    {
      "cell_type": "code",
      "execution_count": null,
      "id": "313ca596",
      "metadata": {
        "id": "313ca596"
      },
      "outputs": [],
      "source": [
        "df_housing.hvplot.scatter(x='Avg. Area Number of Rooms', y='Price')"
      ]
    },
    {
      "cell_type": "code",
      "execution_count": null,
      "id": "e78b8156",
      "metadata": {
        "id": "e78b8156"
      },
      "outputs": [],
      "source": [
        "df_housing.hvplot.scatter(x='Avg. Area Number of Rooms', y='Price')"
      ]
    },
    {
      "cell_type": "code",
      "execution_count": null,
      "id": "4200e8e1",
      "metadata": {
        "id": "4200e8e1"
      },
      "outputs": [],
      "source": []
    },
    {
      "cell_type": "markdown",
      "id": "c3739fb6",
      "metadata": {
        "id": "c3739fb6"
      },
      "source": [
        "### Hot Encode the States"
      ]
    },
    {
      "cell_type": "code",
      "execution_count": null,
      "id": "9170378c",
      "metadata": {
        "id": "9170378c"
      },
      "outputs": [],
      "source": []
    },
    {
      "cell_type": "markdown",
      "id": "78b9c229",
      "metadata": {
        "id": "78b9c229"
      },
      "source": [
        "### Assign X and y as Independent / Dependent variables"
      ]
    },
    {
      "cell_type": "code",
      "execution_count": null,
      "id": "c45582bd",
      "metadata": {
        "id": "c45582bd"
      },
      "outputs": [],
      "source": [
        "X = df_housing[['Avg. Area Income', 'Avg. Area House Age', 'Avg. Area Number of Rooms',\n",
        "               'Avg. Area Number of Bedrooms', 'Area Population']]\n",
        "\n",
        "y = df_housing['Price']"
      ]
    },
    {
      "cell_type": "code",
      "execution_count": null,
      "id": "7d71bfcb",
      "metadata": {
        "id": "7d71bfcb"
      },
      "outputs": [],
      "source": []
    },
    {
      "cell_type": "markdown",
      "id": "672bd668",
      "metadata": {
        "id": "672bd668"
      },
      "source": [
        "## Train / Test Data Split "
      ]
    },
    {
      "cell_type": "code",
      "execution_count": null,
      "id": "2f61d555",
      "metadata": {
        "id": "2f61d555"
      },
      "outputs": [],
      "source": []
    },
    {
      "cell_type": "code",
      "execution_count": null,
      "id": "8ad56123",
      "metadata": {
        "id": "8ad56123"
      },
      "outputs": [],
      "source": [
        "from sklearn.model_selection import train_test_split"
      ]
    },
    {
      "cell_type": "code",
      "execution_count": null,
      "id": "989c8303",
      "metadata": {
        "id": "989c8303"
      },
      "outputs": [],
      "source": [
        "# test size is recommended to be around 0.2-0.3\n",
        "X_train, X_test, y_train, y_test = train_test_split(X, y, test_size=0.2, random_state=0)"
      ]
    },
    {
      "cell_type": "markdown",
      "id": "4869f848",
      "metadata": {
        "id": "4869f848"
      },
      "source": [
        "#### We standardize the X_train & X_test sets, because we don't want (due to outliers) some variables's distributions to affect the other's "
      ]
    },
    {
      "cell_type": "code",
      "execution_count": null,
      "id": "16968fa0",
      "metadata": {
        "id": "16968fa0"
      },
      "outputs": [],
      "source": [
        "from sklearn.preprocessing import StandardScaler"
      ]
    },
    {
      "cell_type": "code",
      "execution_count": null,
      "id": "d530c47d",
      "metadata": {
        "id": "d530c47d"
      },
      "outputs": [],
      "source": [
        "scaler = StandardScaler()"
      ]
    },
    {
      "cell_type": "code",
      "execution_count": null,
      "id": "7d44e2c2",
      "metadata": {
        "id": "7d44e2c2"
      },
      "outputs": [],
      "source": [
        "X_train = scaler.fit_transform(X_train)\n",
        "X_test = scaler.transform(X_test)"
      ]
    },
    {
      "cell_type": "code",
      "execution_count": null,
      "id": "74bf3301",
      "metadata": {
        "id": "74bf3301"
      },
      "outputs": [],
      "source": []
    },
    {
      "cell_type": "code",
      "execution_count": null,
      "id": "4e5ce801",
      "metadata": {
        "id": "4e5ce801"
      },
      "outputs": [],
      "source": []
    },
    {
      "cell_type": "markdown",
      "id": "825c954c",
      "metadata": {
        "id": "825c954c"
      },
      "source": [
        "## Linear Regression"
      ]
    },
    {
      "cell_type": "markdown",
      "id": "9ecdc61b",
      "metadata": {
        "id": "9ecdc61b"
      },
      "source": [
        "### To prepare the data for linear regression we need to:\n",
        "    - assume linear relationship in our data\n",
        "    - remove outliers (noise)\n",
        "    - get rid of collinearity (can cause overfitting)\n",
        "    - Standartization & Normalization of the data"
      ]
    },
    {
      "cell_type": "code",
      "execution_count": null,
      "id": "4bdd6279",
      "metadata": {
        "id": "4bdd6279"
      },
      "outputs": [],
      "source": [
        "# Standartization of data is performed - we remove mean and scale to the variance\n",
        "# the idea is to make the data to behave in a similar way\n",
        "# because if some variable has variance much larger than the rest, \n",
        "# this might affect the learning from the features."
      ]
    },
    {
      "cell_type": "code",
      "execution_count": null,
      "id": "937529e5",
      "metadata": {
        "id": "937529e5"
      },
      "outputs": [],
      "source": []
    },
    {
      "cell_type": "code",
      "execution_count": null,
      "id": "2c2202a9",
      "metadata": {
        "id": "2c2202a9"
      },
      "outputs": [],
      "source": [
        "from sklearn.linear_model import LinearRegression"
      ]
    },
    {
      "cell_type": "code",
      "execution_count": null,
      "id": "12372e9a",
      "metadata": {
        "id": "12372e9a"
      },
      "outputs": [],
      "source": [
        "lin_reg = LinearRegression(normalize=True)"
      ]
    },
    {
      "cell_type": "code",
      "execution_count": null,
      "id": "4f904820",
      "metadata": {
        "id": "4f904820",
        "outputId": "73dff6de-190b-4b54-d9de-603789fead32"
      },
      "outputs": [
        {
          "name": "stderr",
          "output_type": "stream",
          "text": [
            "C:\\Users\\Asus\\anaconda3\\lib\\site-packages\\sklearn\\linear_model\\_base.py:141: FutureWarning: 'normalize' was deprecated in version 1.0 and will be removed in 1.2.\n",
            "If you wish to scale the data, use Pipeline with a StandardScaler in a preprocessing stage. To reproduce the previous behavior:\n",
            "\n",
            "from sklearn.pipeline import make_pipeline\n",
            "\n",
            "model = make_pipeline(StandardScaler(with_mean=False), LinearRegression())\n",
            "\n",
            "If you wish to pass a sample_weight parameter, you need to pass it as a fit parameter to each step of the pipeline as follows:\n",
            "\n",
            "kwargs = {s[0] + '__sample_weight': sample_weight for s in model.steps}\n",
            "model.fit(X, y, **kwargs)\n",
            "\n",
            "\n",
            "  warnings.warn(\n"
          ]
        },
        {
          "data": {
            "text/html": [
              "<style>#sk-container-id-2 {color: black;background-color: white;}#sk-container-id-2 pre{padding: 0;}#sk-container-id-2 div.sk-toggleable {background-color: white;}#sk-container-id-2 label.sk-toggleable__label {cursor: pointer;display: block;width: 100%;margin-bottom: 0;padding: 0.3em;box-sizing: border-box;text-align: center;}#sk-container-id-2 label.sk-toggleable__label-arrow:before {content: \"▸\";float: left;margin-right: 0.25em;color: #696969;}#sk-container-id-2 label.sk-toggleable__label-arrow:hover:before {color: black;}#sk-container-id-2 div.sk-estimator:hover label.sk-toggleable__label-arrow:before {color: black;}#sk-container-id-2 div.sk-toggleable__content {max-height: 0;max-width: 0;overflow: hidden;text-align: left;background-color: #f0f8ff;}#sk-container-id-2 div.sk-toggleable__content pre {margin: 0.2em;color: black;border-radius: 0.25em;background-color: #f0f8ff;}#sk-container-id-2 input.sk-toggleable__control:checked~div.sk-toggleable__content {max-height: 200px;max-width: 100%;overflow: auto;}#sk-container-id-2 input.sk-toggleable__control:checked~label.sk-toggleable__label-arrow:before {content: \"▾\";}#sk-container-id-2 div.sk-estimator input.sk-toggleable__control:checked~label.sk-toggleable__label {background-color: #d4ebff;}#sk-container-id-2 div.sk-label input.sk-toggleable__control:checked~label.sk-toggleable__label {background-color: #d4ebff;}#sk-container-id-2 input.sk-hidden--visually {border: 0;clip: rect(1px 1px 1px 1px);clip: rect(1px, 1px, 1px, 1px);height: 1px;margin: -1px;overflow: hidden;padding: 0;position: absolute;width: 1px;}#sk-container-id-2 div.sk-estimator {font-family: monospace;background-color: #f0f8ff;border: 1px dotted black;border-radius: 0.25em;box-sizing: border-box;margin-bottom: 0.5em;}#sk-container-id-2 div.sk-estimator:hover {background-color: #d4ebff;}#sk-container-id-2 div.sk-parallel-item::after {content: \"\";width: 100%;border-bottom: 1px solid gray;flex-grow: 1;}#sk-container-id-2 div.sk-label:hover label.sk-toggleable__label {background-color: #d4ebff;}#sk-container-id-2 div.sk-serial::before {content: \"\";position: absolute;border-left: 1px solid gray;box-sizing: border-box;top: 0;bottom: 0;left: 50%;z-index: 0;}#sk-container-id-2 div.sk-serial {display: flex;flex-direction: column;align-items: center;background-color: white;padding-right: 0.2em;padding-left: 0.2em;position: relative;}#sk-container-id-2 div.sk-item {position: relative;z-index: 1;}#sk-container-id-2 div.sk-parallel {display: flex;align-items: stretch;justify-content: center;background-color: white;position: relative;}#sk-container-id-2 div.sk-item::before, #sk-container-id-2 div.sk-parallel-item::before {content: \"\";position: absolute;border-left: 1px solid gray;box-sizing: border-box;top: 0;bottom: 0;left: 50%;z-index: -1;}#sk-container-id-2 div.sk-parallel-item {display: flex;flex-direction: column;z-index: 1;position: relative;background-color: white;}#sk-container-id-2 div.sk-parallel-item:first-child::after {align-self: flex-end;width: 50%;}#sk-container-id-2 div.sk-parallel-item:last-child::after {align-self: flex-start;width: 50%;}#sk-container-id-2 div.sk-parallel-item:only-child::after {width: 0;}#sk-container-id-2 div.sk-dashed-wrapped {border: 1px dashed gray;margin: 0 0.4em 0.5em 0.4em;box-sizing: border-box;padding-bottom: 0.4em;background-color: white;}#sk-container-id-2 div.sk-label label {font-family: monospace;font-weight: bold;display: inline-block;line-height: 1.2em;}#sk-container-id-2 div.sk-label-container {text-align: center;}#sk-container-id-2 div.sk-container {/* jupyter's `normalize.less` sets `[hidden] { display: none; }` but bootstrap.min.css set `[hidden] { display: none !important; }` so we also need the `!important` here to be able to override the default hidden behavior on the sphinx rendered scikit-learn.org. See: https://github.com/scikit-learn/scikit-learn/issues/21755 */display: inline-block !important;position: relative;}#sk-container-id-2 div.sk-text-repr-fallback {display: none;}</style><div id=\"sk-container-id-2\" class=\"sk-top-container\"><div class=\"sk-text-repr-fallback\"><pre>LinearRegression(normalize=True)</pre><b>In a Jupyter environment, please rerun this cell to show the HTML representation or trust the notebook. <br />On GitHub, the HTML representation is unable to render, please try loading this page with nbviewer.org.</b></div><div class=\"sk-container\" hidden><div class=\"sk-item\"><div class=\"sk-estimator sk-toggleable\"><input class=\"sk-toggleable__control sk-hidden--visually\" id=\"sk-estimator-id-2\" type=\"checkbox\" checked><label for=\"sk-estimator-id-2\" class=\"sk-toggleable__label sk-toggleable__label-arrow\">LinearRegression</label><div class=\"sk-toggleable__content\"><pre>LinearRegression(normalize=True)</pre></div></div></div></div></div>"
            ],
            "text/plain": [
              "LinearRegression(normalize=True)"
            ]
          },
          "execution_count": 74,
          "metadata": {},
          "output_type": "execute_result"
        }
      ],
      "source": [
        "# Train the linear regression model\n",
        "lin_reg.fit(X_train, y_train)"
      ]
    },
    {
      "cell_type": "code",
      "execution_count": null,
      "id": "ac3a54c4",
      "metadata": {
        "id": "ac3a54c4"
      },
      "outputs": [],
      "source": [
        "y_lin_reg_pred = lin_reg.predict(X_test_scaled)"
      ]
    },
    {
      "cell_type": "code",
      "execution_count": null,
      "id": "d38a61d3",
      "metadata": {
        "id": "d38a61d3",
        "outputId": "238a3258-20b9-4f09-b639-c5ecefa68d9d"
      },
      "outputs": [
        {
          "data": {
            "text/plain": [
              "82657.94605892095"
            ]
          },
          "execution_count": 76,
          "metadata": {},
          "output_type": "execute_result"
        }
      ],
      "source": [
        "mean_absolute_error(y_lin_reg_pred, y_test)"
      ]
    },
    {
      "cell_type": "code",
      "execution_count": null,
      "id": "7491cacd",
      "metadata": {
        "id": "7491cacd"
      },
      "outputs": [],
      "source": []
    },
    {
      "cell_type": "markdown",
      "id": "52926e97",
      "metadata": {
        "id": "52926e97"
      },
      "source": [
        "## Artificial Neural Network"
      ]
    },
    {
      "cell_type": "code",
      "execution_count": null,
      "id": "b521087c",
      "metadata": {
        "id": "b521087c"
      },
      "outputs": [],
      "source": [
        "from scikeras.wrappers import KerasClassifier\n",
        "import tensorflow as tf"
      ]
    },
    {
      "cell_type": "code",
      "execution_count": null,
      "id": "98fd1e36",
      "metadata": {
        "id": "98fd1e36"
      },
      "outputs": [],
      "source": [
        "from keras.layers import Dense, Dropout\n",
        "from keras.models import Sequential"
      ]
    },
    {
      "cell_type": "code",
      "execution_count": null,
      "id": "f995dbe4",
      "metadata": {
        "id": "f995dbe4"
      },
      "outputs": [],
      "source": [
        "from sklearn.model_selection import GridSearchCV "
      ]
    },
    {
      "cell_type": "markdown",
      "id": "9d523bc0",
      "metadata": {
        "id": "9d523bc0"
      },
      "source": [
        "###### we initialize the number of columns, as they will be the input variables to the first layer"
      ]
    },
    {
      "cell_type": "code",
      "execution_count": null,
      "id": "17c036ae",
      "metadata": {
        "id": "17c036ae"
      },
      "outputs": [],
      "source": [
        "n_cols = X_train.shape[1]"
      ]
    },
    {
      "cell_type": "code",
      "execution_count": null,
      "id": "62d87527",
      "metadata": {
        "id": "62d87527"
      },
      "outputs": [],
      "source": []
    },
    {
      "cell_type": "markdown",
      "id": "9565d606",
      "metadata": {
        "id": "9565d606"
      },
      "source": [
        "##### Learning rate controls the weight at the end of each batch\n",
        "##### momentum controls how much to let the previous update influence the current weight update.\n",
        "##### Decay indicates the learning rate decay over each update \n",
        "\n",
        "Typical values for those hyperparameters are lr=0.01, decay=1e-6, momentum=0.9, and nesterov=True."
      ]
    },
    {
      "cell_type": "code",
      "execution_count": null,
      "id": "cdf4fa82",
      "metadata": {
        "id": "cdf4fa82"
      },
      "outputs": [],
      "source": []
    },
    {
      "cell_type": "markdown",
      "id": "d7405053",
      "metadata": {
        "id": "d7405053"
      },
      "source": [
        "### ANN model function /using ADAM optimization algorithm/"
      ]
    },
    {
      "cell_type": "code",
      "execution_count": null,
      "id": "fdf9a5de",
      "metadata": {
        "id": "fdf9a5de"
      },
      "outputs": [],
      "source": [
        "# Prepare Data in an array format:\n",
        "X_train = np.array(X_train)\n",
        "X_test = np.array(X_test)\n",
        "y_train = np.array(y_train)\n",
        "y_test = np.array(y_test)"
      ]
    },
    {
      "cell_type": "code",
      "execution_count": null,
      "id": "0302caa8",
      "metadata": {
        "id": "0302caa8"
      },
      "outputs": [],
      "source": [
        "def ann_model_1(neurons):\n",
        "    \"\"\"\n",
        "    The ann_model_1 function will be used for the KerasClassifier, and for the \n",
        "    GridSearchCV to optimize the hyperparameters. \n",
        "    It builds a Neural Network with 1 hidden layer.\n",
        "    It uses ReLU as a standard activation function, as it is preferred for regression tasks.\n",
        "    Loss function is mean_squared_error as it is preferred again for regression tasks\n",
        "    Optimizer is the ADAM algorithm\n",
        "    \n",
        "    Output: a whole ANN model\n",
        "    \"\"\"\n",
        "    model = Sequential()\n",
        "    \n",
        "    #Input layer\n",
        "    model.add(Dense(5, activation='relu', input_shape=(5,)))\n",
        "    \n",
        "    #First hidden layer\n",
        "    model.add(Dense(neurons, activation='relu'))\n",
        "    \n",
        "    #Dropout rate - normally 0.2 is suggested\n",
        "    model.add(Dropout(0.2))\n",
        "    \n",
        "    #Output layer\n",
        "\n",
        "    model.add(Dense(1))\n",
        "    \n",
        "    #first apply the optimizing method adam, mean_squared_error is preferreable for regression  tasks)\n",
        "\n",
        "    model.compile(optimizer='adam', loss='mean_squared_error', metrics=['accuracy'])\n",
        "    \n",
        "    return model"
      ]
    },
    {
      "cell_type": "code",
      "execution_count": null,
      "id": "d6bd3d3d",
      "metadata": {
        "id": "d6bd3d3d"
      },
      "outputs": [],
      "source": [
        "# Might be good to add a dropout layer"
      ]
    },
    {
      "cell_type": "code",
      "execution_count": null,
      "id": "c45a9e45",
      "metadata": {
        "id": "c45a9e45"
      },
      "outputs": [],
      "source": [
        "#TODO: might need a dropout\n",
        "#TODO: learning_rate\n",
        "#TODO: confusion_matrix"
      ]
    },
    {
      "cell_type": "code",
      "execution_count": null,
      "id": "9a5e5979",
      "metadata": {
        "id": "9a5e5979"
      },
      "outputs": [],
      "source": [
        "# We can fix a random seed for repruducibility\n",
        "seed = 10\n",
        "tf.random.set_seed(seed)"
      ]
    },
    {
      "cell_type": "code",
      "execution_count": null,
      "id": "c6695d1f",
      "metadata": {
        "id": "c6695d1f"
      },
      "outputs": [],
      "source": [
        "# Create Model\n",
        "model_1 = KerasClassifier(model=ann_model_1, epochs = 100, batch_size=50, verbose=0)"
      ]
    },
    {
      "cell_type": "code",
      "execution_count": null,
      "id": "6b0c1a07",
      "metadata": {
        "id": "6b0c1a07"
      },
      "outputs": [],
      "source": [
        "# Hyperparameters to test:\n",
        "# batch_size = [10,20,50,80,100]\n",
        "# epochs = [10, 50, 100]\n",
        "neurons = [1,5,10,20,30,50,80,100]"
      ]
    },
    {
      "cell_type": "code",
      "execution_count": null,
      "id": "7e463023",
      "metadata": {
        "id": "7e463023"
      },
      "outputs": [],
      "source": [
        "# Parameters for the GridSearchCV:\n",
        "params_grid = dict(model__neurons=neurons)"
      ]
    },
    {
      "cell_type": "markdown",
      "id": "14bcb62d",
      "metadata": {
        "id": "14bcb62d"
      },
      "source": [
        "### Create the model"
      ]
    },
    {
      "cell_type": "code",
      "execution_count": null,
      "id": "daa9d391",
      "metadata": {
        "id": "daa9d391"
      },
      "outputs": [],
      "source": [
        "model_1 = KerasClassifier(model=ann_model_1, epochs = 100, batch_size=50, verbose=0)"
      ]
    },
    {
      "cell_type": "markdown",
      "id": "3e186628",
      "metadata": {
        "id": "3e186628"
      },
      "source": [
        "#### GridSearchCV for Hyperparameters:\n"
      ]
    },
    {
      "cell_type": "code",
      "execution_count": null,
      "id": "65387674",
      "metadata": {
        "id": "65387674"
      },
      "outputs": [],
      "source": [
        "# n_jobs = -1 allows all cores of the machine to be used\n",
        "# cv = 5 , means the data is cross - validated on 5 parts\n",
        "grid_1 = GridSearchCV(estimator=model_1, param_grid=params_grid, n_jobs=-1, cv=5)"
      ]
    },
    {
      "cell_type": "code",
      "execution_count": null,
      "id": "20c3f811",
      "metadata": {
        "id": "20c3f811",
        "outputId": "aefa2d06-dc0a-43ef-ef43-c22ea07d6540"
      },
      "outputs": [
        {
          "ename": "ValueError",
          "evalue": "\nAll the 40 fits failed.\nIt is very likely that your model is misconfigured.\nYou can try to debug the error by setting error_score='raise'.\n\nBelow are more details about the failures:\n--------------------------------------------------------------------------------\n40 fits failed with the following error:\nTraceback (most recent call last):\n  File \"C:\\Users\\Asus\\anaconda3\\lib\\site-packages\\sklearn\\model_selection\\_validation.py\", line 686, in _fit_and_score\n    estimator.fit(X_train, y_train, **fit_params)\n  File \"C:\\Users\\Asus\\anaconda3\\lib\\site-packages\\scikeras\\wrappers.py\", line 1494, in fit\n    super().fit(X=X, y=y, sample_weight=sample_weight, **kwargs)\n  File \"C:\\Users\\Asus\\anaconda3\\lib\\site-packages\\scikeras\\wrappers.py\", line 762, in fit\n    self._fit(\n  File \"C:\\Users\\Asus\\anaconda3\\lib\\site-packages\\scikeras\\wrappers.py\", line 918, in _fit\n    X, y = self._initialize(X, y)\n  File \"C:\\Users\\Asus\\anaconda3\\lib\\site-packages\\scikeras\\wrappers.py\", line 848, in _initialize\n    self.target_encoder_ = self.target_encoder.fit(y)\n  File \"C:\\Users\\Asus\\anaconda3\\lib\\site-packages\\scikeras\\utils\\transformers.py\", line 176, in fit\n    raise ValueError(\nValueError: Unknown label type: continuous.\n\nTo implement support, subclass KerasClassifier and override ``target_encoder`` with a transformer that supports this label type.\n\nFor information on sklearn target types, see: * https://scikit-learn.org/stable/modules/generated/sklearn.utils.multiclass.type_of_target.html * https://scikit-learn.org/stable/modules/multiclass.html\n\nFor information on the SciKeras data transformation interface, see: * https://www.adriangb.com/scikeras/stable/advanced.html#data-transformers\n",
          "output_type": "error",
          "traceback": [
            "\u001b[1;31m---------------------------------------------------------------------------\u001b[0m",
            "\u001b[1;31mValueError\u001b[0m                                Traceback (most recent call last)",
            "Cell \u001b[1;32mIn[34], line 1\u001b[0m\n\u001b[1;32m----> 1\u001b[0m grid_res_1 \u001b[38;5;241m=\u001b[39m \u001b[43mgrid_1\u001b[49m\u001b[38;5;241;43m.\u001b[39;49m\u001b[43mfit\u001b[49m\u001b[43m(\u001b[49m\u001b[43mX_train\u001b[49m\u001b[43m,\u001b[49m\u001b[43m \u001b[49m\u001b[43my_train\u001b[49m\u001b[43m)\u001b[49m\n",
            "File \u001b[1;32m~\\anaconda3\\lib\\site-packages\\sklearn\\model_selection\\_search.py:875\u001b[0m, in \u001b[0;36mBaseSearchCV.fit\u001b[1;34m(self, X, y, groups, **fit_params)\u001b[0m\n\u001b[0;32m    869\u001b[0m     results \u001b[38;5;241m=\u001b[39m \u001b[38;5;28mself\u001b[39m\u001b[38;5;241m.\u001b[39m_format_results(\n\u001b[0;32m    870\u001b[0m         all_candidate_params, n_splits, all_out, all_more_results\n\u001b[0;32m    871\u001b[0m     )\n\u001b[0;32m    873\u001b[0m     \u001b[38;5;28;01mreturn\u001b[39;00m results\n\u001b[1;32m--> 875\u001b[0m \u001b[38;5;28;43mself\u001b[39;49m\u001b[38;5;241;43m.\u001b[39;49m\u001b[43m_run_search\u001b[49m\u001b[43m(\u001b[49m\u001b[43mevaluate_candidates\u001b[49m\u001b[43m)\u001b[49m\n\u001b[0;32m    877\u001b[0m \u001b[38;5;66;03m# multimetric is determined here because in the case of a callable\u001b[39;00m\n\u001b[0;32m    878\u001b[0m \u001b[38;5;66;03m# self.scoring the return type is only known after calling\u001b[39;00m\n\u001b[0;32m    879\u001b[0m first_test_score \u001b[38;5;241m=\u001b[39m all_out[\u001b[38;5;241m0\u001b[39m][\u001b[38;5;124m\"\u001b[39m\u001b[38;5;124mtest_scores\u001b[39m\u001b[38;5;124m\"\u001b[39m]\n",
            "File \u001b[1;32m~\\anaconda3\\lib\\site-packages\\sklearn\\model_selection\\_search.py:1379\u001b[0m, in \u001b[0;36mGridSearchCV._run_search\u001b[1;34m(self, evaluate_candidates)\u001b[0m\n\u001b[0;32m   1377\u001b[0m \u001b[38;5;28;01mdef\u001b[39;00m \u001b[38;5;21m_run_search\u001b[39m(\u001b[38;5;28mself\u001b[39m, evaluate_candidates):\n\u001b[0;32m   1378\u001b[0m     \u001b[38;5;124;03m\"\"\"Search all candidates in param_grid\"\"\"\u001b[39;00m\n\u001b[1;32m-> 1379\u001b[0m     \u001b[43mevaluate_candidates\u001b[49m\u001b[43m(\u001b[49m\u001b[43mParameterGrid\u001b[49m\u001b[43m(\u001b[49m\u001b[38;5;28;43mself\u001b[39;49m\u001b[38;5;241;43m.\u001b[39;49m\u001b[43mparam_grid\u001b[49m\u001b[43m)\u001b[49m\u001b[43m)\u001b[49m\n",
            "File \u001b[1;32m~\\anaconda3\\lib\\site-packages\\sklearn\\model_selection\\_search.py:852\u001b[0m, in \u001b[0;36mBaseSearchCV.fit.<locals>.evaluate_candidates\u001b[1;34m(candidate_params, cv, more_results)\u001b[0m\n\u001b[0;32m    845\u001b[0m \u001b[38;5;28;01melif\u001b[39;00m \u001b[38;5;28mlen\u001b[39m(out) \u001b[38;5;241m!=\u001b[39m n_candidates \u001b[38;5;241m*\u001b[39m n_splits:\n\u001b[0;32m    846\u001b[0m     \u001b[38;5;28;01mraise\u001b[39;00m \u001b[38;5;167;01mValueError\u001b[39;00m(\n\u001b[0;32m    847\u001b[0m         \u001b[38;5;124m\"\u001b[39m\u001b[38;5;124mcv.split and cv.get_n_splits returned \u001b[39m\u001b[38;5;124m\"\u001b[39m\n\u001b[0;32m    848\u001b[0m         \u001b[38;5;124m\"\u001b[39m\u001b[38;5;124minconsistent results. Expected \u001b[39m\u001b[38;5;132;01m{}\u001b[39;00m\u001b[38;5;124m \u001b[39m\u001b[38;5;124m\"\u001b[39m\n\u001b[0;32m    849\u001b[0m         \u001b[38;5;124m\"\u001b[39m\u001b[38;5;124msplits, got \u001b[39m\u001b[38;5;132;01m{}\u001b[39;00m\u001b[38;5;124m\"\u001b[39m\u001b[38;5;241m.\u001b[39mformat(n_splits, \u001b[38;5;28mlen\u001b[39m(out) \u001b[38;5;241m/\u001b[39m\u001b[38;5;241m/\u001b[39m n_candidates)\n\u001b[0;32m    850\u001b[0m     )\n\u001b[1;32m--> 852\u001b[0m \u001b[43m_warn_or_raise_about_fit_failures\u001b[49m\u001b[43m(\u001b[49m\u001b[43mout\u001b[49m\u001b[43m,\u001b[49m\u001b[43m \u001b[49m\u001b[38;5;28;43mself\u001b[39;49m\u001b[38;5;241;43m.\u001b[39;49m\u001b[43merror_score\u001b[49m\u001b[43m)\u001b[49m\n\u001b[0;32m    854\u001b[0m \u001b[38;5;66;03m# For callable self.scoring, the return type is only know after\u001b[39;00m\n\u001b[0;32m    855\u001b[0m \u001b[38;5;66;03m# calling. If the return type is a dictionary, the error scores\u001b[39;00m\n\u001b[0;32m    856\u001b[0m \u001b[38;5;66;03m# can now be inserted with the correct key. The type checking\u001b[39;00m\n\u001b[0;32m    857\u001b[0m \u001b[38;5;66;03m# of out will be done in `_insert_error_scores`.\u001b[39;00m\n\u001b[0;32m    858\u001b[0m \u001b[38;5;28;01mif\u001b[39;00m callable(\u001b[38;5;28mself\u001b[39m\u001b[38;5;241m.\u001b[39mscoring):\n",
            "File \u001b[1;32m~\\anaconda3\\lib\\site-packages\\sklearn\\model_selection\\_validation.py:367\u001b[0m, in \u001b[0;36m_warn_or_raise_about_fit_failures\u001b[1;34m(results, error_score)\u001b[0m\n\u001b[0;32m    360\u001b[0m \u001b[38;5;28;01mif\u001b[39;00m num_failed_fits \u001b[38;5;241m==\u001b[39m num_fits:\n\u001b[0;32m    361\u001b[0m     all_fits_failed_message \u001b[38;5;241m=\u001b[39m (\n\u001b[0;32m    362\u001b[0m         \u001b[38;5;124mf\u001b[39m\u001b[38;5;124m\"\u001b[39m\u001b[38;5;130;01m\\n\u001b[39;00m\u001b[38;5;124mAll the \u001b[39m\u001b[38;5;132;01m{\u001b[39;00mnum_fits\u001b[38;5;132;01m}\u001b[39;00m\u001b[38;5;124m fits failed.\u001b[39m\u001b[38;5;130;01m\\n\u001b[39;00m\u001b[38;5;124m\"\u001b[39m\n\u001b[0;32m    363\u001b[0m         \u001b[38;5;124m\"\u001b[39m\u001b[38;5;124mIt is very likely that your model is misconfigured.\u001b[39m\u001b[38;5;130;01m\\n\u001b[39;00m\u001b[38;5;124m\"\u001b[39m\n\u001b[0;32m    364\u001b[0m         \u001b[38;5;124m\"\u001b[39m\u001b[38;5;124mYou can try to debug the error by setting error_score=\u001b[39m\u001b[38;5;124m'\u001b[39m\u001b[38;5;124mraise\u001b[39m\u001b[38;5;124m'\u001b[39m\u001b[38;5;124m.\u001b[39m\u001b[38;5;130;01m\\n\u001b[39;00m\u001b[38;5;130;01m\\n\u001b[39;00m\u001b[38;5;124m\"\u001b[39m\n\u001b[0;32m    365\u001b[0m         \u001b[38;5;124mf\u001b[39m\u001b[38;5;124m\"\u001b[39m\u001b[38;5;124mBelow are more details about the failures:\u001b[39m\u001b[38;5;130;01m\\n\u001b[39;00m\u001b[38;5;132;01m{\u001b[39;00mfit_errors_summary\u001b[38;5;132;01m}\u001b[39;00m\u001b[38;5;124m\"\u001b[39m\n\u001b[0;32m    366\u001b[0m     )\n\u001b[1;32m--> 367\u001b[0m     \u001b[38;5;28;01mraise\u001b[39;00m \u001b[38;5;167;01mValueError\u001b[39;00m(all_fits_failed_message)\n\u001b[0;32m    369\u001b[0m \u001b[38;5;28;01melse\u001b[39;00m:\n\u001b[0;32m    370\u001b[0m     some_fits_failed_message \u001b[38;5;241m=\u001b[39m (\n\u001b[0;32m    371\u001b[0m         \u001b[38;5;124mf\u001b[39m\u001b[38;5;124m\"\u001b[39m\u001b[38;5;130;01m\\n\u001b[39;00m\u001b[38;5;132;01m{\u001b[39;00mnum_failed_fits\u001b[38;5;132;01m}\u001b[39;00m\u001b[38;5;124m fits failed out of a total of \u001b[39m\u001b[38;5;132;01m{\u001b[39;00mnum_fits\u001b[38;5;132;01m}\u001b[39;00m\u001b[38;5;124m.\u001b[39m\u001b[38;5;130;01m\\n\u001b[39;00m\u001b[38;5;124m\"\u001b[39m\n\u001b[0;32m    372\u001b[0m         \u001b[38;5;124m\"\u001b[39m\u001b[38;5;124mThe score on these train-test partitions for these parameters\u001b[39m\u001b[38;5;124m\"\u001b[39m\n\u001b[1;32m   (...)\u001b[0m\n\u001b[0;32m    376\u001b[0m         \u001b[38;5;124mf\u001b[39m\u001b[38;5;124m\"\u001b[39m\u001b[38;5;124mBelow are more details about the failures:\u001b[39m\u001b[38;5;130;01m\\n\u001b[39;00m\u001b[38;5;132;01m{\u001b[39;00mfit_errors_summary\u001b[38;5;132;01m}\u001b[39;00m\u001b[38;5;124m\"\u001b[39m\n\u001b[0;32m    377\u001b[0m     )\n",
            "\u001b[1;31mValueError\u001b[0m: \nAll the 40 fits failed.\nIt is very likely that your model is misconfigured.\nYou can try to debug the error by setting error_score='raise'.\n\nBelow are more details about the failures:\n--------------------------------------------------------------------------------\n40 fits failed with the following error:\nTraceback (most recent call last):\n  File \"C:\\Users\\Asus\\anaconda3\\lib\\site-packages\\sklearn\\model_selection\\_validation.py\", line 686, in _fit_and_score\n    estimator.fit(X_train, y_train, **fit_params)\n  File \"C:\\Users\\Asus\\anaconda3\\lib\\site-packages\\scikeras\\wrappers.py\", line 1494, in fit\n    super().fit(X=X, y=y, sample_weight=sample_weight, **kwargs)\n  File \"C:\\Users\\Asus\\anaconda3\\lib\\site-packages\\scikeras\\wrappers.py\", line 762, in fit\n    self._fit(\n  File \"C:\\Users\\Asus\\anaconda3\\lib\\site-packages\\scikeras\\wrappers.py\", line 918, in _fit\n    X, y = self._initialize(X, y)\n  File \"C:\\Users\\Asus\\anaconda3\\lib\\site-packages\\scikeras\\wrappers.py\", line 848, in _initialize\n    self.target_encoder_ = self.target_encoder.fit(y)\n  File \"C:\\Users\\Asus\\anaconda3\\lib\\site-packages\\scikeras\\utils\\transformers.py\", line 176, in fit\n    raise ValueError(\nValueError: Unknown label type: continuous.\n\nTo implement support, subclass KerasClassifier and override ``target_encoder`` with a transformer that supports this label type.\n\nFor information on sklearn target types, see: * https://scikit-learn.org/stable/modules/generated/sklearn.utils.multiclass.type_of_target.html * https://scikit-learn.org/stable/modules/multiclass.html\n\nFor information on the SciKeras data transformation interface, see: * https://www.adriangb.com/scikeras/stable/advanced.html#data-transformers\n"
          ]
        }
      ],
      "source": [
        "grid_res_1 = grid_1.fit(X_train, y_train)"
      ]
    },
    {
      "cell_type": "code",
      "execution_count": null,
      "id": "9cad6a74",
      "metadata": {
        "id": "9cad6a74"
      },
      "outputs": [],
      "source": []
    },
    {
      "cell_type": "code",
      "execution_count": null,
      "id": "08978c8e",
      "metadata": {
        "id": "08978c8e"
      },
      "outputs": [],
      "source": []
    },
    {
      "cell_type": "markdown",
      "id": "d92fa44f",
      "metadata": {
        "id": "d92fa44f"
      },
      "source": [
        "## Train the model"
      ]
    },
    {
      "cell_type": "code",
      "execution_count": null,
      "id": "fd2f7d60",
      "metadata": {
        "id": "fd2f7d60",
        "outputId": "3244aa0a-a222-4cc5-83b1-ddda21bcd926"
      },
      "outputs": [
        {
          "ename": "NameError",
          "evalue": "name 'Dropout' is not defined",
          "output_type": "error",
          "traceback": [
            "\u001b[1;31m---------------------------------------------------------------------------\u001b[0m",
            "\u001b[1;31mNameError\u001b[0m                                 Traceback (most recent call last)",
            "Cell \u001b[1;32mIn[26], line 1\u001b[0m\n\u001b[1;32m----> 1\u001b[0m ann_1 \u001b[38;5;241m=\u001b[39m \u001b[43mann_model_1\u001b[49m\u001b[43m(\u001b[49m\u001b[38;5;241;43m50\u001b[39;49m\u001b[43m)\u001b[49m\n",
            "Cell \u001b[1;32mIn[16], line 21\u001b[0m, in \u001b[0;36mann_model_1\u001b[1;34m(neurons)\u001b[0m\n\u001b[0;32m     18\u001b[0m model\u001b[38;5;241m.\u001b[39madd(Dense(neurons, activation\u001b[38;5;241m=\u001b[39m\u001b[38;5;124m'\u001b[39m\u001b[38;5;124mrelu\u001b[39m\u001b[38;5;124m'\u001b[39m))\n\u001b[0;32m     20\u001b[0m \u001b[38;5;66;03m#Dropout rate - normally 0.2 is suggested\u001b[39;00m\n\u001b[1;32m---> 21\u001b[0m model\u001b[38;5;241m.\u001b[39madd(\u001b[43mDropout\u001b[49m(\u001b[38;5;241m0.2\u001b[39m))\n\u001b[0;32m     23\u001b[0m \u001b[38;5;66;03m#Output layer\u001b[39;00m\n\u001b[0;32m     25\u001b[0m model\u001b[38;5;241m.\u001b[39madd(Dense(\u001b[38;5;241m1\u001b[39m))\n",
            "\u001b[1;31mNameError\u001b[0m: name 'Dropout' is not defined"
          ]
        }
      ],
      "source": [
        "ann_1 = ann_model_1(50)"
      ]
    },
    {
      "cell_type": "code",
      "execution_count": null,
      "id": "2164866c",
      "metadata": {
        "id": "2164866c",
        "outputId": "81694392-87fd-4ab3-b96c-8d894613b9dc"
      },
      "outputs": [
        {
          "ename": "NameError",
          "evalue": "name 'model' is not defined",
          "output_type": "error",
          "traceback": [
            "\u001b[1;31m---------------------------------------------------------------------------\u001b[0m",
            "\u001b[1;31mNameError\u001b[0m                                 Traceback (most recent call last)",
            "Cell \u001b[1;32mIn[25], line 1\u001b[0m\n\u001b[1;32m----> 1\u001b[0m \u001b[43mmodel\u001b[49m\u001b[38;5;241m.\u001b[39mfit(optimizer\u001b[38;5;241m=\u001b[39m\u001b[38;5;124m'\u001b[39m\u001b[38;5;124madam\u001b[39m\u001b[38;5;124m'\u001b[39m, loss\u001b[38;5;241m=\u001b[39m\u001b[38;5;124m'\u001b[39m\u001b[38;5;124mmse\u001b[39m\u001b[38;5;124m'\u001b[39m)\n",
            "\u001b[1;31mNameError\u001b[0m: name 'model' is not defined"
          ]
        }
      ],
      "source": [
        "model.fit(optimizer='adam', loss='mse')"
      ]
    },
    {
      "cell_type": "code",
      "execution_count": null,
      "id": "3f4b4329",
      "metadata": {
        "id": "3f4b4329",
        "outputId": "bca2238a-45bd-44b2-a99d-32e6ba39bd7f"
      },
      "outputs": [
        {
          "name": "stdout",
          "output_type": "stream",
          "text": [
            "Epoch 1/100\n",
            "125/125 [==============================] - 4s 13ms/step - loss: 1642502029312.0000 - accuracy: 0.0000e+00 - val_loss: 1643060527104.0000 - val_accuracy: 0.0000e+00\n",
            "Epoch 2/100\n",
            "125/125 [==============================] - 1s 11ms/step - loss: 1642069884928.0000 - accuracy: 0.0000e+00 - val_loss: 1642163470336.0000 - val_accuracy: 0.0000e+00\n",
            "Epoch 3/100\n",
            "125/125 [==============================] - 1s 11ms/step - loss: 1640384954368.0000 - accuracy: 0.0000e+00 - val_loss: 1639483047936.0000 - val_accuracy: 0.0000e+00\n",
            "Epoch 4/100\n",
            "125/125 [==============================] - 1s 9ms/step - loss: 1636427235328.0000 - accuracy: 0.0000e+00 - val_loss: 1634035433472.0000 - val_accuracy: 0.0000e+00\n",
            "Epoch 5/100\n",
            "125/125 [==============================] - 1s 8ms/step - loss: 1629323001856.0000 - accuracy: 0.0000e+00 - val_loss: 1625031180288.0000 - val_accuracy: 0.0000e+00\n",
            "Epoch 6/100\n",
            "125/125 [==============================] - 1s 7ms/step - loss: 1618385043456.0000 - accuracy: 0.0000e+00 - val_loss: 1611826331648.0000 - val_accuracy: 0.0000e+00\n",
            "Epoch 7/100\n",
            "125/125 [==============================] - 1s 6ms/step - loss: 1603020521472.0000 - accuracy: 0.0000e+00 - val_loss: 1593935396864.0000 - val_accuracy: 0.0000e+00\n",
            "Epoch 8/100\n",
            "125/125 [==============================] - 1s 9ms/step - loss: 1582749581312.0000 - accuracy: 0.0000e+00 - val_loss: 1570757935104.0000 - val_accuracy: 0.0000e+00\n",
            "Epoch 9/100\n",
            "125/125 [==============================] - 1s 6ms/step - loss: 1557059862528.0000 - accuracy: 0.0000e+00 - val_loss: 1541972688896.0000 - val_accuracy: 0.0000e+00\n",
            "Epoch 10/100\n",
            "125/125 [==============================] - 1s 6ms/step - loss: 1525791850496.0000 - accuracy: 0.0000e+00 - val_loss: 1507633528832.0000 - val_accuracy: 0.0000e+00\n",
            "Epoch 11/100\n",
            "125/125 [==============================] - 1s 6ms/step - loss: 1488896393216.0000 - accuracy: 0.0000e+00 - val_loss: 1467686715392.0000 - val_accuracy: 0.0000e+00\n",
            "Epoch 12/100\n",
            "125/125 [==============================] - 1s 10ms/step - loss: 1446542442496.0000 - accuracy: 0.0000e+00 - val_loss: 1422128709632.0000 - val_accuracy: 0.0000e+00\n",
            "Epoch 13/100\n",
            "125/125 [==============================] - 1s 10ms/step - loss: 1398763814912.0000 - accuracy: 0.0000e+00 - val_loss: 1371240660992.0000 - val_accuracy: 0.0000e+00\n",
            "Epoch 14/100\n",
            "125/125 [==============================] - 1s 11ms/step - loss: 1345714651136.0000 - accuracy: 0.0000e+00 - val_loss: 1315287728128.0000 - val_accuracy: 0.0000e+00\n",
            "Epoch 15/100\n",
            "125/125 [==============================] - 1s 8ms/step - loss: 1287912685568.0000 - accuracy: 0.0000e+00 - val_loss: 1254904692736.0000 - val_accuracy: 0.0000e+00\n",
            "Epoch 16/100\n",
            "125/125 [==============================] - 1s 8ms/step - loss: 1225962684416.0000 - accuracy: 0.0000e+00 - val_loss: 1190185402368.0000 - val_accuracy: 0.0000e+00\n",
            "Epoch 17/100\n",
            "125/125 [==============================] - 1s 9ms/step - loss: 1160405975040.0000 - accuracy: 0.0000e+00 - val_loss: 1123030007808.0000 - val_accuracy: 0.0000e+00\n",
            "Epoch 18/100\n",
            "125/125 [==============================] - 1s 11ms/step - loss: 1092091576320.0000 - accuracy: 0.0000e+00 - val_loss: 1052666822656.0000 - val_accuracy: 0.0000e+00\n",
            "Epoch 19/100\n",
            "125/125 [==============================] - 1s 11ms/step - loss: 1021304700928.0000 - accuracy: 0.0000e+00 - val_loss: 980702330880.0000 - val_accuracy: 0.0000e+00\n",
            "Epoch 20/100\n",
            "125/125 [==============================] - 1s 7ms/step - loss: 949158215680.0000 - accuracy: 0.0000e+00 - val_loss: 907975786496.0000 - val_accuracy: 0.0000e+00\n",
            "Epoch 21/100\n",
            "125/125 [==============================] - 1s 9ms/step - loss: 876670287872.0000 - accuracy: 0.0000e+00 - val_loss: 834945024000.0000 - val_accuracy: 0.0000e+00\n",
            "Epoch 22/100\n",
            "125/125 [==============================] - 1s 8ms/step - loss: 804540121088.0000 - accuracy: 0.0000e+00 - val_loss: 763113439232.0000 - val_accuracy: 0.0000e+00\n",
            "Epoch 23/100\n",
            "125/125 [==============================] - 1s 10ms/step - loss: 733768581120.0000 - accuracy: 0.0000e+00 - val_loss: 693107687424.0000 - val_accuracy: 0.0000e+00\n",
            "Epoch 24/100\n",
            "125/125 [==============================] - 1s 10ms/step - loss: 665085214720.0000 - accuracy: 0.0000e+00 - val_loss: 625785569280.0000 - val_accuracy: 0.0000e+00\n",
            "Epoch 25/100\n",
            "125/125 [==============================] - 1s 10ms/step - loss: 599265902592.0000 - accuracy: 0.0000e+00 - val_loss: 561686839296.0000 - val_accuracy: 0.0000e+00\n",
            "Epoch 26/100\n",
            "125/125 [==============================] - 1s 6ms/step - loss: 536999919616.0000 - accuracy: 0.0000e+00 - val_loss: 501645967360.0000 - val_accuracy: 0.0000e+00\n",
            "Epoch 27/100\n",
            "125/125 [==============================] - 1s 9ms/step - loss: 478936727552.0000 - accuracy: 0.0000e+00 - val_loss: 445792190464.0000 - val_accuracy: 0.0000e+00\n",
            "Epoch 28/100\n",
            "125/125 [==============================] - 1s 9ms/step - loss: 425387753472.0000 - accuracy: 0.0000e+00 - val_loss: 395061067776.0000 - val_accuracy: 0.0000e+00\n",
            "Epoch 29/100\n",
            "125/125 [==============================] - 1s 8ms/step - loss: 376742477824.0000 - accuracy: 0.0000e+00 - val_loss: 349410983936.0000 - val_accuracy: 0.0000e+00\n",
            "Epoch 30/100\n",
            "125/125 [==============================] - 1s 10ms/step - loss: 333148880896.0000 - accuracy: 0.0000e+00 - val_loss: 308797014016.0000 - val_accuracy: 0.0000e+00\n",
            "Epoch 31/100\n",
            "125/125 [==============================] - 1s 9ms/step - loss: 294552076288.0000 - accuracy: 0.0000e+00 - val_loss: 273215029248.0000 - val_accuracy: 0.0000e+00\n",
            "Epoch 32/100\n",
            "125/125 [==============================] - 1s 11ms/step - loss: 260791336960.0000 - accuracy: 0.0000e+00 - val_loss: 242356191232.0000 - val_accuracy: 0.0000e+00\n",
            "Epoch 33/100\n",
            "125/125 [==============================] - 1s 7ms/step - loss: 231543504896.0000 - accuracy: 0.0000e+00 - val_loss: 215878189056.0000 - val_accuracy: 0.0000e+00\n",
            "Epoch 34/100\n",
            "125/125 [==============================] - 1s 8ms/step - loss: 206454882304.0000 - accuracy: 0.0000e+00 - val_loss: 193261207552.0000 - val_accuracy: 0.0000e+00\n",
            "Epoch 35/100\n",
            "125/125 [==============================] - 1s 8ms/step - loss: 184990973952.0000 - accuracy: 0.0000e+00 - val_loss: 174011301888.0000 - val_accuracy: 0.0000e+00\n",
            "Epoch 36/100\n",
            "125/125 [==============================] - 1s 8ms/step - loss: 166638256128.0000 - accuracy: 0.0000e+00 - val_loss: 157545840640.0000 - val_accuracy: 0.0000e+00\n",
            "Epoch 37/100\n",
            "125/125 [==============================] - 1s 8ms/step - loss: 150889086976.0000 - accuracy: 0.0000e+00 - val_loss: 143429484544.0000 - val_accuracy: 0.0000e+00\n",
            "Epoch 38/100\n",
            "125/125 [==============================] - 1s 9ms/step - loss: 137338707968.0000 - accuracy: 0.0000e+00 - val_loss: 131221938176.0000 - val_accuracy: 0.0000e+00\n",
            "Epoch 39/100\n",
            "125/125 [==============================] - 1s 9ms/step - loss: 125577748480.0000 - accuracy: 0.0000e+00 - val_loss: 120602632192.0000 - val_accuracy: 0.0000e+00\n",
            "Epoch 40/100\n",
            "125/125 [==============================] - 1s 8ms/step - loss: 115285114880.0000 - accuracy: 0.0000e+00 - val_loss: 111143739392.0000 - val_accuracy: 0.0000e+00\n",
            "Epoch 41/100\n",
            "125/125 [==============================] - 1s 9ms/step - loss: 106179690496.0000 - accuracy: 0.0000e+00 - val_loss: 102786228224.0000 - val_accuracy: 0.0000e+00\n",
            "Epoch 42/100\n",
            "125/125 [==============================] - 1s 8ms/step - loss: 98096144384.0000 - accuracy: 0.0000e+00 - val_loss: 95363325952.0000 - val_accuracy: 0.0000e+00\n",
            "Epoch 43/100\n",
            "125/125 [==============================] - 1s 6ms/step - loss: 90886135808.0000 - accuracy: 0.0000e+00 - val_loss: 88653832192.0000 - val_accuracy: 0.0000e+00\n",
            "Epoch 44/100\n",
            "125/125 [==============================] - 1s 8ms/step - loss: 84438319104.0000 - accuracy: 0.0000e+00 - val_loss: 82586640384.0000 - val_accuracy: 0.0000e+00\n",
            "Epoch 45/100\n",
            "125/125 [==============================] - 1s 9ms/step - loss: 78658289664.0000 - accuracy: 0.0000e+00 - val_loss: 77127360512.0000 - val_accuracy: 0.0000e+00\n",
            "Epoch 46/100\n",
            "125/125 [==============================] - 1s 10ms/step - loss: 73453420544.0000 - accuracy: 0.0000e+00 - val_loss: 72243634176.0000 - val_accuracy: 0.0000e+00\n",
            "Epoch 47/100\n",
            "125/125 [==============================] - 1s 6ms/step - loss: 68770897920.0000 - accuracy: 0.0000e+00 - val_loss: 67802460160.0000 - val_accuracy: 0.0000e+00\n"
          ]
        },
        {
          "name": "stdout",
          "output_type": "stream",
          "text": [
            "Epoch 48/100\n",
            "125/125 [==============================] - 1s 7ms/step - loss: 64536584192.0000 - accuracy: 0.0000e+00 - val_loss: 63809662976.0000 - val_accuracy: 0.0000e+00\n",
            "Epoch 49/100\n",
            "125/125 [==============================] - 1s 8ms/step - loss: 60722130944.0000 - accuracy: 0.0000e+00 - val_loss: 60162928640.0000 - val_accuracy: 0.0000e+00\n",
            "Epoch 50/100\n",
            "125/125 [==============================] - 1s 7ms/step - loss: 57260855296.0000 - accuracy: 0.0000e+00 - val_loss: 56819691520.0000 - val_accuracy: 0.0000e+00\n",
            "Epoch 51/100\n",
            "125/125 [==============================] - 1s 8ms/step - loss: 54126645248.0000 - accuracy: 0.0000e+00 - val_loss: 53809352704.0000 - val_accuracy: 0.0000e+00\n",
            "Epoch 52/100\n",
            "125/125 [==============================] - 1s 8ms/step - loss: 51264761856.0000 - accuracy: 0.0000e+00 - val_loss: 51033919488.0000 - val_accuracy: 0.0000e+00\n",
            "Epoch 53/100\n",
            "125/125 [==============================] - 1s 10ms/step - loss: 48644554752.0000 - accuracy: 0.0000e+00 - val_loss: 48473137152.0000 - val_accuracy: 0.0000e+00\n",
            "Epoch 54/100\n",
            "125/125 [==============================] - 1s 10ms/step - loss: 46243696640.0000 - accuracy: 0.0000e+00 - val_loss: 46155030528.0000 - val_accuracy: 0.0000e+00\n",
            "Epoch 55/100\n",
            "125/125 [==============================] - 1s 11ms/step - loss: 44014620672.0000 - accuracy: 0.0000e+00 - val_loss: 43992469504.0000 - val_accuracy: 0.0000e+00\n",
            "Epoch 56/100\n",
            "125/125 [==============================] - 1s 10ms/step - loss: 41964093440.0000 - accuracy: 0.0000e+00 - val_loss: 41969577984.0000 - val_accuracy: 0.0000e+00\n",
            "Epoch 57/100\n",
            "125/125 [==============================] - 1s 8ms/step - loss: 40055549952.0000 - accuracy: 0.0000e+00 - val_loss: 40106291200.0000 - val_accuracy: 0.0000e+00\n",
            "Epoch 58/100\n",
            "125/125 [==============================] - 1s 8ms/step - loss: 38285459456.0000 - accuracy: 0.0000e+00 - val_loss: 38374121472.0000 - val_accuracy: 0.0000e+00\n",
            "Epoch 59/100\n",
            "125/125 [==============================] - 1s 8ms/step - loss: 36638076928.0000 - accuracy: 0.0000e+00 - val_loss: 36747440128.0000 - val_accuracy: 0.0000e+00\n",
            "Epoch 60/100\n",
            "125/125 [==============================] - 1s 9ms/step - loss: 35086278656.0000 - accuracy: 0.0000e+00 - val_loss: 35247042560.0000 - val_accuracy: 0.0000e+00\n",
            "Epoch 61/100\n",
            "125/125 [==============================] - 1s 9ms/step - loss: 33632897024.0000 - accuracy: 0.0000e+00 - val_loss: 33781403648.0000 - val_accuracy: 0.0000e+00\n",
            "Epoch 62/100\n",
            "125/125 [==============================] - 1s 7ms/step - loss: 32260102144.0000 - accuracy: 0.0000e+00 - val_loss: 32438126592.0000 - val_accuracy: 0.0000e+00\n",
            "Epoch 63/100\n",
            "125/125 [==============================] - 1s 8ms/step - loss: 30967322624.0000 - accuracy: 0.0000e+00 - val_loss: 31168376832.0000 - val_accuracy: 0.0000e+00\n",
            "Epoch 64/100\n",
            "125/125 [==============================] - 1s 5ms/step - loss: 29744244736.0000 - accuracy: 0.0000e+00 - val_loss: 29960591360.0000 - val_accuracy: 0.0000e+00\n",
            "Epoch 65/100\n",
            "125/125 [==============================] - 1s 6ms/step - loss: 28601542656.0000 - accuracy: 0.0000e+00 - val_loss: 28816254976.0000 - val_accuracy: 0.0000e+00\n",
            "Epoch 66/100\n",
            "125/125 [==============================] - 1s 7ms/step - loss: 27507294208.0000 - accuracy: 0.0000e+00 - val_loss: 27742758912.0000 - val_accuracy: 0.0000e+00\n",
            "Epoch 67/100\n",
            "125/125 [==============================] - 1s 9ms/step - loss: 26484760576.0000 - accuracy: 0.0000e+00 - val_loss: 26713061376.0000 - val_accuracy: 0.0000e+00\n",
            "Epoch 68/100\n",
            "125/125 [==============================] - 1s 10ms/step - loss: 25509777408.0000 - accuracy: 0.0000e+00 - val_loss: 25756096512.0000 - val_accuracy: 0.0000e+00\n",
            "Epoch 69/100\n",
            "125/125 [==============================] - 1s 9ms/step - loss: 24601137152.0000 - accuracy: 0.0000e+00 - val_loss: 24852379648.0000 - val_accuracy: 0.0000e+00\n",
            "Epoch 70/100\n",
            "125/125 [==============================] - 1s 8ms/step - loss: 23734609920.0000 - accuracy: 0.0000e+00 - val_loss: 24014645248.0000 - val_accuracy: 0.0000e+00\n",
            "Epoch 71/100\n",
            "125/125 [==============================] - 1s 7ms/step - loss: 22923409408.0000 - accuracy: 0.0000e+00 - val_loss: 23220813824.0000 - val_accuracy: 0.0000e+00\n",
            "Epoch 72/100\n",
            "125/125 [==============================] - 1s 10ms/step - loss: 22156519424.0000 - accuracy: 0.0000e+00 - val_loss: 22457188352.0000 - val_accuracy: 0.0000e+00\n",
            "Epoch 73/100\n",
            "125/125 [==============================] - 1s 6ms/step - loss: 21433176064.0000 - accuracy: 0.0000e+00 - val_loss: 21739153408.0000 - val_accuracy: 0.0000e+00\n",
            "Epoch 74/100\n",
            "125/125 [==============================] - 1s 7ms/step - loss: 20751720448.0000 - accuracy: 0.0000e+00 - val_loss: 21062871040.0000 - val_accuracy: 0.0000e+00\n",
            "Epoch 75/100\n",
            "125/125 [==============================] - 1s 8ms/step - loss: 20106512384.0000 - accuracy: 0.0000e+00 - val_loss: 20441999360.0000 - val_accuracy: 0.0000e+00\n",
            "Epoch 76/100\n",
            "125/125 [==============================] - 1s 9ms/step - loss: 19495051264.0000 - accuracy: 0.0000e+00 - val_loss: 19825262592.0000 - val_accuracy: 0.0000e+00\n",
            "Epoch 77/100\n",
            "125/125 [==============================] - 1s 9ms/step - loss: 18928840704.0000 - accuracy: 0.0000e+00 - val_loss: 19265501184.0000 - val_accuracy: 0.0000e+00\n",
            "Epoch 78/100\n",
            "125/125 [==============================] - 1s 9ms/step - loss: 18389733376.0000 - accuracy: 0.0000e+00 - val_loss: 18725210112.0000 - val_accuracy: 0.0000e+00\n",
            "Epoch 79/100\n",
            "125/125 [==============================] - 1s 8ms/step - loss: 17885573120.0000 - accuracy: 0.0000e+00 - val_loss: 18243155968.0000 - val_accuracy: 0.0000e+00\n",
            "Epoch 80/100\n",
            "125/125 [==============================] - 1s 8ms/step - loss: 17408618496.0000 - accuracy: 0.0000e+00 - val_loss: 17777094656.0000 - val_accuracy: 0.0000e+00\n",
            "Epoch 81/100\n",
            "125/125 [==============================] - 1s 10ms/step - loss: 16963906560.0000 - accuracy: 0.0000e+00 - val_loss: 17340653568.0000 - val_accuracy: 0.0000e+00\n",
            "Epoch 82/100\n",
            "125/125 [==============================] - 1s 6ms/step - loss: 16544356352.0000 - accuracy: 0.0000e+00 - val_loss: 16931002368.0000 - val_accuracy: 0.0000e+00\n",
            "Epoch 83/100\n",
            "125/125 [==============================] - 1s 10ms/step - loss: 16159205376.0000 - accuracy: 0.0000e+00 - val_loss: 16548049920.0000 - val_accuracy: 0.0000e+00\n",
            "Epoch 84/100\n",
            "125/125 [==============================] - 1s 9ms/step - loss: 15794151424.0000 - accuracy: 0.0000e+00 - val_loss: 16189715456.0000 - val_accuracy: 0.0000e+00\n",
            "Epoch 85/100\n",
            "125/125 [==============================] - 1s 8ms/step - loss: 15461640192.0000 - accuracy: 0.0000e+00 - val_loss: 15873676288.0000 - val_accuracy: 0.0000e+00\n",
            "Epoch 86/100\n",
            "125/125 [==============================] - 1s 10ms/step - loss: 15147045888.0000 - accuracy: 0.0000e+00 - val_loss: 15554003968.0000 - val_accuracy: 0.0000e+00\n",
            "Epoch 87/100\n",
            "125/125 [==============================] - 1s 8ms/step - loss: 14853979136.0000 - accuracy: 0.0000e+00 - val_loss: 15279234048.0000 - val_accuracy: 0.0000e+00\n",
            "Epoch 88/100\n",
            "125/125 [==============================] - 1s 7ms/step - loss: 14577622016.0000 - accuracy: 0.0000e+00 - val_loss: 15007069184.0000 - val_accuracy: 0.0000e+00\n",
            "Epoch 89/100\n",
            "125/125 [==============================] - 1s 6ms/step - loss: 14320978944.0000 - accuracy: 0.0000e+00 - val_loss: 14759107584.0000 - val_accuracy: 0.0000e+00\n",
            "Epoch 90/100\n",
            "125/125 [==============================] - 1s 6ms/step - loss: 14086505472.0000 - accuracy: 0.0000e+00 - val_loss: 14519635968.0000 - val_accuracy: 0.0000e+00\n",
            "Epoch 91/100\n",
            "125/125 [==============================] - 1s 6ms/step - loss: 13870914560.0000 - accuracy: 0.0000e+00 - val_loss: 14298413056.0000 - val_accuracy: 0.0000e+00\n",
            "Epoch 92/100\n",
            "125/125 [==============================] - 1s 7ms/step - loss: 13660993536.0000 - accuracy: 0.0000e+00 - val_loss: 14094377984.0000 - val_accuracy: 0.0000e+00\n",
            "Epoch 93/100\n",
            "125/125 [==============================] - 1s 6ms/step - loss: 13464573952.0000 - accuracy: 0.0000e+00 - val_loss: 13907130368.0000 - val_accuracy: 0.0000e+00\n",
            "Epoch 94/100\n",
            "125/125 [==============================] - 1s 7ms/step - loss: 13281683456.0000 - accuracy: 0.0000e+00 - val_loss: 13736092672.0000 - val_accuracy: 0.0000e+00\n",
            "Epoch 95/100\n",
            "125/125 [==============================] - 1s 7ms/step - loss: 13115650048.0000 - accuracy: 0.0000e+00 - val_loss: 13561996288.0000 - val_accuracy: 0.0000e+00\n",
            "Epoch 96/100\n",
            "125/125 [==============================] - 1s 6ms/step - loss: 12959418368.0000 - accuracy: 0.0000e+00 - val_loss: 13411172352.0000 - val_accuracy: 0.0000e+00\n",
            "Epoch 97/100\n",
            "125/125 [==============================] - 1s 9ms/step - loss: 12807570432.0000 - accuracy: 0.0000e+00 - val_loss: 13265612800.0000 - val_accuracy: 0.0000e+00\n",
            "Epoch 98/100\n",
            "125/125 [==============================] - 1s 8ms/step - loss: 12664900608.0000 - accuracy: 0.0000e+00 - val_loss: 13131166720.0000 - val_accuracy: 0.0000e+00\n",
            "Epoch 99/100\n",
            "125/125 [==============================] - 1s 9ms/step - loss: 12540037120.0000 - accuracy: 0.0000e+00 - val_loss: 13005595648.0000 - val_accuracy: 0.0000e+00\n",
            "Epoch 100/100\n",
            "125/125 [==============================] - 1s 9ms/step - loss: 12413401088.0000 - accuracy: 0.0000e+00 - val_loss: 12888904704.0000 - val_accuracy: 0.0000e+00\n"
          ]
        },
        {
          "data": {
            "text/plain": [
              "<keras.callbacks.History at 0x18c08a26310>"
            ]
          },
          "execution_count": 68,
          "metadata": {},
          "output_type": "execute_result"
        }
      ],
      "source": [
        "model.fit(X_train, y_train,\n",
        "         validation_data=(X_train, y_test),\n",
        "         batch_size=100,\n",
        "         epochs=100)"
      ]
    },
    {
      "cell_type": "code",
      "execution_count": null,
      "id": "fb8df51d",
      "metadata": {
        "id": "fb8df51d"
      },
      "outputs": [],
      "source": [
        "# To test the prediction accuracy we are going to predict on the X test - data \n",
        "# and compare it to  the y test - data"
      ]
    },
    {
      "cell_type": "code",
      "execution_count": null,
      "id": "0e47f39d",
      "metadata": {
        "id": "0e47f39d",
        "outputId": "c123ea33-1db8-4f11-e6f5-d1b823bd8765"
      },
      "outputs": [
        {
          "name": "stdout",
          "output_type": "stream",
          "text": [
            "32/32 [==============================] - 0s 3ms/step\n"
          ]
        }
      ],
      "source": [
        "y_pred = model.predict(X_test_scaled)"
      ]
    },
    {
      "cell_type": "code",
      "execution_count": null,
      "id": "f2ae41dc",
      "metadata": {
        "id": "f2ae41dc"
      },
      "outputs": [],
      "source": []
    },
    {
      "cell_type": "code",
      "execution_count": null,
      "id": "5024d4a1",
      "metadata": {
        "id": "5024d4a1"
      },
      "outputs": [],
      "source": []
    },
    {
      "cell_type": "code",
      "execution_count": null,
      "id": "592ef3df",
      "metadata": {
        "id": "592ef3df"
      },
      "outputs": [],
      "source": [
        "from sklearn.metrics import mean_absolute_error"
      ]
    },
    {
      "cell_type": "code",
      "execution_count": null,
      "id": "67b59c83",
      "metadata": {
        "id": "67b59c83",
        "outputId": "07eccacb-1348-44ef-a9f2-1b59b81218c9"
      },
      "outputs": [
        {
          "data": {
            "text/plain": [
              "90346.02287455049"
            ]
          },
          "execution_count": 70,
          "metadata": {},
          "output_type": "execute_result"
        }
      ],
      "source": [
        "mean_absolute_error(y_test, y_pred)"
      ]
    },
    {
      "cell_type": "code",
      "execution_count": null,
      "id": "45c59c45",
      "metadata": {
        "id": "45c59c45"
      },
      "outputs": [],
      "source": [
        "from sklearn.metrics import mean_squared_error"
      ]
    },
    {
      "cell_type": "code",
      "execution_count": null,
      "id": "5ae0e6d2",
      "metadata": {
        "id": "5ae0e6d2",
        "outputId": "8b3d8a18-7281-4c86-b043-9e84048031d5"
      },
      "outputs": [
        {
          "data": {
            "text/plain": [
              "12888903039.640652"
            ]
          },
          "execution_count": 71,
          "metadata": {},
          "output_type": "execute_result"
        }
      ],
      "source": [
        "mean_squared_error(y_test,y_pred)"
      ]
    },
    {
      "cell_type": "code",
      "execution_count": null,
      "id": "a7d748e1",
      "metadata": {
        "id": "a7d748e1"
      },
      "outputs": [],
      "source": []
    },
    {
      "cell_type": "markdown",
      "id": "ac5c1765",
      "metadata": {
        "id": "ac5c1765"
      },
      "source": [
        "### Cross-Validation --> Tuning the Hyperparameters"
      ]
    },
    {
      "cell_type": "code",
      "execution_count": null,
      "id": "9dd9f033",
      "metadata": {
        "id": "9dd9f033"
      },
      "outputs": [],
      "source": []
    },
    {
      "cell_type": "code",
      "execution_count": null,
      "id": "c24dcda3",
      "metadata": {
        "id": "c24dcda3"
      },
      "outputs": [],
      "source": [
        "#inga check"
      ]
    }
  ],
  "metadata": {
    "kernelspec": {
      "display_name": "Python 3",
      "language": "python",
      "name": "python3"
    },
    "language_info": {
      "codemirror_mode": {
        "name": "ipython",
        "version": 3
      },
      "file_extension": ".py",
      "mimetype": "text/x-python",
      "name": "python",
      "nbconvert_exporter": "python",
      "pygments_lexer": "ipython3",
      "version": "3.8.8"
    },
    "vscode": {
      "interpreter": {
        "hash": "c25269a4018224bb4e3cb6b79397037e31419b0dedc1b97e47175df2e08dbf7b"
      }
    },
    "colab": {
      "provenance": [],
      "include_colab_link": true
    }
  },
  "nbformat": 4,
  "nbformat_minor": 5
}